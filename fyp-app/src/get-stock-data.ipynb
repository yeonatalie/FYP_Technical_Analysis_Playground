{
 "cells": [
  {
   "cell_type": "code",
   "execution_count": 1,
   "metadata": {},
   "outputs": [],
   "source": [
    "import yfinance as yf\n",
    "import pandas as pd\n",
    "import shutil"
   ]
  },
  {
   "cell_type": "code",
   "execution_count": 2,
   "metadata": {},
   "outputs": [],
   "source": [
    "shutil.copytree('stock-data/new', 'stock-data/old', dirs_exist_ok = True)\n",
    "\n",
    "for ticker in ['AAPL', 'MSFT', 'AMZN', 'NVDA', 'TSLA', 'GOOGL', 'GOOG', 'BRK-B', 'UNH', 'JNJ', 'XOM', 'JPM', 'META', 'V', 'PG', 'MA', 'HD', 'CVX', 'ABBV', 'MRK']:\n",
    "    daily_df = pd.DataFrame(yf.Ticker(ticker).history(period=\"5y\", interval=\"1d\")).reset_index()\n",
    "    daily_df['Date'] = daily_df['Date'].dt.date\n",
    "    daily_df.columns = [x.lower() for x in daily_df.columns]\n",
    "    daily_df.to_csv('stock-data/new/daily/' + ticker + '.csv')"
   ]
  },
  {
   "cell_type": "code",
   "execution_count": null,
   "metadata": {},
   "outputs": [],
   "source": []
  }
 ],
 "metadata": {
  "kernelspec": {
   "display_name": "bt4221",
   "language": "python",
   "name": "python3"
  },
  "language_info": {
   "codemirror_mode": {
    "name": "ipython",
    "version": 3
   },
   "file_extension": ".py",
   "mimetype": "text/x-python",
   "name": "python",
   "nbconvert_exporter": "python",
   "pygments_lexer": "ipython3",
   "version": "3.8.8"
  },
  "orig_nbformat": 4,
  "vscode": {
   "interpreter": {
    "hash": "623360448e706f421c172c9af3d88ba3c32dc9d2dd7e6c4c59e44c89bc1618c6"
   }
  }
 },
 "nbformat": 4,
 "nbformat_minor": 2
}
